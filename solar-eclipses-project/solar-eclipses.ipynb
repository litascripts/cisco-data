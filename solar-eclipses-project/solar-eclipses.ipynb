{
 "cells": [
  {
   "cell_type": "markdown",
   "metadata": {},
   "source": [
    "# Solar Eclipses\n",
    "\n",
    "What is the average duration of total darkness during a total solar eclipse? When did the longest solar eclipse occur?\n",
    "\n",
    "The file `solar-eclipses.csv` provides information on all solar eclipses from 1901 to 2100, leveraging the ability of scientists to accurately predict the timing and location of future eclipses.\n",
    "\n",
    "A solar eclipse happens when the Moon moves between the Earth and the Sun, blocking the Sun's light either partially or completely. There are three primary types of solar eclipses:\n",
    "\n",
    "1. Total Solar Eclipse: The Moon fully covers the Sun, casting a shadow on Earth and revealing the Sun's corona.\n",
    "\n",
    "2. Partial Solar Eclipse: The Moon obscures only part of the Sun, creating a crescent-shaped appearance.\n",
    "\n",
    "3. Annular Solar Eclipse: The Moon covers the center of the Sun, leaving a ring-like appearance, known as a \"ring of fire,\" around the edges. This occurs when the Moon is too far from Earth to completely cover the Sun.\n",
    "\n",
    "The `duration` variable indicates the length of time that the entire moon covers the sun.\n"
   ]
  },
  {
   "cell_type": "code",
   "execution_count": 1,
   "metadata": {},
   "outputs": [],
   "source": [
    "# FOR GOOGLE COLAB ONLY.\n",
    "# Uncomment and run the code below. A dialog will appear to upload files.\n",
    "# Upload 'solar-eclipses.csv'.\n",
    "\n",
    "# from google.colab import files\n",
    "# uploaded = files.upload()"
   ]
  },
  {
   "cell_type": "code",
   "execution_count": 2,
   "metadata": {},
   "outputs": [
    {
     "data": {
      "text/html": [
       "<div>\n",
       "<style scoped>\n",
       "    .dataframe tbody tr th:only-of-type {\n",
       "        vertical-align: middle;\n",
       "    }\n",
       "\n",
       "    .dataframe tbody tr th {\n",
       "        vertical-align: top;\n",
       "    }\n",
       "\n",
       "    .dataframe thead th {\n",
       "        text-align: right;\n",
       "    }\n",
       "</style>\n",
       "<table border=\"1\" class=\"dataframe\">\n",
       "  <thead>\n",
       "    <tr style=\"text-align: right;\">\n",
       "      <th></th>\n",
       "      <th>date</th>\n",
       "      <th>eclipse_type</th>\n",
       "      <th>magnitude</th>\n",
       "      <th>duration</th>\n",
       "      <th>region</th>\n",
       "    </tr>\n",
       "  </thead>\n",
       "  <tbody>\n",
       "    <tr>\n",
       "      <th>0</th>\n",
       "      <td>05-18-1901</td>\n",
       "      <td>Total</td>\n",
       "      <td>1.068</td>\n",
       "      <td>06m29s</td>\n",
       "      <td>s Asia, Australia, e Africa [Total: Indonesia, N Guinea, Madagascar]</td>\n",
       "    </tr>\n",
       "    <tr>\n",
       "      <th>1</th>\n",
       "      <td>11-11-1901</td>\n",
       "      <td>Annular</td>\n",
       "      <td>0.922</td>\n",
       "      <td>11m01s</td>\n",
       "      <td>ne Africa, Asia, w Europe [Annular: ne Africa, India, Sri Lanka, se Asia]</td>\n",
       "    </tr>\n",
       "    <tr>\n",
       "      <th>2</th>\n",
       "      <td>04-08-1902</td>\n",
       "      <td>Partial</td>\n",
       "      <td>0.064</td>\n",
       "      <td>NaN</td>\n",
       "      <td>northern Canada</td>\n",
       "    </tr>\n",
       "    <tr>\n",
       "      <th>3</th>\n",
       "      <td>05-07-1902</td>\n",
       "      <td>Partial</td>\n",
       "      <td>0.859</td>\n",
       "      <td>NaN</td>\n",
       "      <td>New Zealand, South Pacific</td>\n",
       "    </tr>\n",
       "    <tr>\n",
       "      <th>4</th>\n",
       "      <td>10-31-1902</td>\n",
       "      <td>Partial</td>\n",
       "      <td>0.696</td>\n",
       "      <td>NaN</td>\n",
       "      <td>c Asia, e Europe</td>\n",
       "    </tr>\n",
       "    <tr>\n",
       "      <th>...</th>\n",
       "      <td>...</td>\n",
       "      <td>...</td>\n",
       "      <td>...</td>\n",
       "      <td>...</td>\n",
       "      <td>...</td>\n",
       "    </tr>\n",
       "    <tr>\n",
       "      <th>439</th>\n",
       "      <td>10-24-2098</td>\n",
       "      <td>Partial</td>\n",
       "      <td>0.006</td>\n",
       "      <td>NaN</td>\n",
       "      <td>Southern Ocean (near Antarctica)</td>\n",
       "    </tr>\n",
       "    <tr>\n",
       "      <th>440</th>\n",
       "      <td>03-21-2099</td>\n",
       "      <td>Annular</td>\n",
       "      <td>0.932</td>\n",
       "      <td>07m32s</td>\n",
       "      <td>Australia, N.Z., Antarctica, N. America [Annular: Central Pacific]</td>\n",
       "    </tr>\n",
       "    <tr>\n",
       "      <th>441</th>\n",
       "      <td>09-14-2099</td>\n",
       "      <td>Total</td>\n",
       "      <td>1.068</td>\n",
       "      <td>05m18s</td>\n",
       "      <td>Americas, Africa [Total: Canada, U.S., Central Atlantic]</td>\n",
       "    </tr>\n",
       "    <tr>\n",
       "      <th>442</th>\n",
       "      <td>03-10-2100</td>\n",
       "      <td>Annular</td>\n",
       "      <td>0.934</td>\n",
       "      <td>07m29s</td>\n",
       "      <td>Australia, N. America [Annular: Central Pacific, U.S.]</td>\n",
       "    </tr>\n",
       "    <tr>\n",
       "      <th>443</th>\n",
       "      <td>09-04-2100</td>\n",
       "      <td>Total</td>\n",
       "      <td>1.040</td>\n",
       "      <td>03m32s</td>\n",
       "      <td>Africa, Antarctica [Total: Central Africa, Madagascar]</td>\n",
       "    </tr>\n",
       "  </tbody>\n",
       "</table>\n",
       "<p>444 rows × 5 columns</p>\n",
       "</div>"
      ],
      "text/plain": [
       "           date eclipse_type  magnitude duration  \\\n",
       "0    05-18-1901        Total      1.068   06m29s   \n",
       "1    11-11-1901      Annular      0.922   11m01s   \n",
       "2    04-08-1902      Partial      0.064      NaN   \n",
       "3    05-07-1902      Partial      0.859      NaN   \n",
       "4    10-31-1902      Partial      0.696      NaN   \n",
       "..          ...          ...        ...      ...   \n",
       "439  10-24-2098      Partial      0.006      NaN   \n",
       "440  03-21-2099      Annular      0.932   07m32s   \n",
       "441  09-14-2099        Total      1.068   05m18s   \n",
       "442  03-10-2100      Annular      0.934   07m29s   \n",
       "443  09-04-2100        Total      1.040   03m32s   \n",
       "\n",
       "                                                                        region  \n",
       "0         s Asia, Australia, e Africa [Total: Indonesia, N Guinea, Madagascar]  \n",
       "1    ne Africa, Asia, w Europe [Annular: ne Africa, India, Sri Lanka, se Asia]  \n",
       "2                                                              northern Canada  \n",
       "3                                                   New Zealand, South Pacific  \n",
       "4                                                             c Asia, e Europe  \n",
       "..                                                                         ...  \n",
       "439                                           Southern Ocean (near Antarctica)  \n",
       "440         Australia, N.Z., Antarctica, N. America [Annular: Central Pacific]  \n",
       "441                   Americas, Africa [Total: Canada, U.S., Central Atlantic]  \n",
       "442                     Australia, N. America [Annular: Central Pacific, U.S.]  \n",
       "443                     Africa, Antarctica [Total: Central Africa, Madagascar]  \n",
       "\n",
       "[444 rows x 5 columns]"
      ]
     },
     "execution_count": 2,
     "metadata": {},
     "output_type": "execute_result"
    }
   ],
   "source": [
    "import pandas as pd\n",
    "pd.set_option('display.max_colwidth', 1000)\n",
    "df = pd.read_csv('solar-eclipses.csv')\n",
    "df"
   ]
  },
  {
   "cell_type": "markdown",
   "metadata": {},
   "source": [
    "### Project Ideas:\n",
    "\n",
    "- When did the longest solar eclipse occur? The longest total eclipse?\n",
    "\t- Hint: convert duration to seconds. You can use `str.replace('s', '')` to remove the 's' from the duration values.\n",
    "\n",
    "- What is the average duration of total solar eclipses? \n",
    "\n",
    "- Show the next 10 solar eclipses?\n",
    "\t- Hint: convert date to datetime.\n"
   ]
  },
  {
   "cell_type": "code",
   "execution_count": 8,
   "metadata": {},
   "outputs": [],
   "source": [
    "# YOUR CODE HERE (add additional cells as needed)\n",
    "\n",
    "# When did the longest solar eclipse occur? The longest total eclipse?\n",
    "# Hint: convert duration to seconds. You can use `str.replace('s', '')` to remove the 's' from the duration values.\n",
    "\n",
    "import pandas as pd\n",
    "import numpy as np\n",
    "\n",
    "# Load data\n",
    "df = pd.read_csv(\"solar-eclipses.csv\")\n",
    "\n",
    "# Function to convert eclipse duration to seconds\n",
    "def parse_duration(duration):\n",
    "    if pd.isnull(duration):\n",
    "        return np.nan\n",
    "    try:\n",
    "        minutes = int(duration.split('m')[0])\n",
    "        seconds = int(duration.split('m')[1].replace('s', ''))\n",
    "        return minutes * 60 + seconds\n",
    "    except:\n",
    "        return np.nan\n",
    "\n",
    "# Apply the conversion\n",
    "df['duration_seconds'] = df['duration'].apply(parse_duration)\n"
   ]
  },
  {
   "cell_type": "code",
   "execution_count": 9,
   "metadata": {},
   "outputs": [
    {
     "name": "stdout",
     "output_type": "stream",
     "text": [
      "Longest eclipse overall:\n",
      " date            12-14-1955\n",
      "eclipse_type       Annular\n",
      "duration            12m09s\n",
      "Name: 126, dtype: object\n"
     ]
    }
   ],
   "source": [
    "# Longest eclipse overall\n",
    "\n",
    "longest = df.loc[df['duration_seconds'].idxmax()]\n",
    "print(\"Longest eclipse overall:\\n\", longest[['date', 'eclipse_type', 'duration']])"
   ]
  },
  {
   "cell_type": "code",
   "execution_count": 10,
   "metadata": {},
   "outputs": [
    {
     "name": "stdout",
     "output_type": "stream",
     "text": [
      "Longest total eclipse:\n",
      " date        06-20-1955\n",
      "duration        07m08s\n",
      "Name: 125, dtype: object\n"
     ]
    }
   ],
   "source": [
    "# Longest total eclipse\n",
    "\n",
    "total_df = df[df['eclipse_type'] == 'Total']\n",
    "longest_total = total_df.loc[total_df['duration_seconds'].idxmax()]\n",
    "print(\"Longest total eclipse:\\n\", longest_total[['date', 'duration']])"
   ]
  },
  {
   "cell_type": "code",
   "execution_count": 11,
   "metadata": {},
   "outputs": [
    {
     "name": "stdout",
     "output_type": "stream",
     "text": [
      "Average total eclipse duration (seconds): 211.96296296296296\n"
     ]
    }
   ],
   "source": [
    "# Average duration of total eclipses\n",
    "\n",
    "avg_total_duration = total_df['duration_seconds'].mean()\n",
    "print(\"Average total eclipse duration (seconds):\", avg_total_duration)"
   ]
  },
  {
   "cell_type": "code",
   "execution_count": 12,
   "metadata": {},
   "outputs": [
    {
     "name": "stdout",
     "output_type": "stream",
     "text": [
      "          date eclipse_type duration\n",
      "275 2025-09-21      Partial      NaN\n",
      "276 2026-02-17      Annular   02m20s\n",
      "277 2026-08-12        Total   02m18s\n",
      "278 2027-02-06      Annular   07m51s\n",
      "279 2027-08-02        Total   06m23s\n",
      "280 2028-01-26      Annular   10m27s\n",
      "281 2028-07-22        Total   05m10s\n",
      "282 2029-01-14      Partial      NaN\n",
      "283 2029-06-12      Partial      NaN\n",
      "284 2029-07-11      Partial      NaN\n"
     ]
    }
   ],
   "source": [
    "# Next 10 eclipses\n",
    "\n",
    "df['date'] = pd.to_datetime(df['date'], format='%m-%d-%Y')\n",
    "df_sorted = df.sort_values('date')\n",
    "\n",
    "next_10 = df_sorted[df_sorted['date'] >= pd.Timestamp.today()].head(10)\n",
    "print(next_10[['date', 'eclipse_type', 'duration']])"
   ]
  }
 ],
 "metadata": {
  "kernelspec": {
   "display_name": "Python 3",
   "language": "python",
   "name": "python3"
  },
  "language_info": {
   "codemirror_mode": {
    "name": "ipython",
    "version": 3
   },
   "file_extension": ".py",
   "mimetype": "text/x-python",
   "name": "python",
   "nbconvert_exporter": "python",
   "pygments_lexer": "ipython3",
   "version": "3.13.1"
  }
 },
 "nbformat": 4,
 "nbformat_minor": 2
}
