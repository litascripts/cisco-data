{
 "cells": [
  {
   "cell_type": "markdown",
   "metadata": {},
   "source": [
    "# Typing Speeds\n",
    "\n",
    "How can you improve your typing speed?\n",
    "\n",
    "The file `typing-speeds.csv` contains typing speed data from >168,000 people typing 15 sentences each. The data was collected via an online typing test published at a free typing speed assessment webpage."
   ]
  },
  {
   "cell_type": "code",
   "execution_count": 8,
   "metadata": {},
   "outputs": [],
   "source": [
    "# FOR GOOGLE COLAB ONLY.\n",
    "# Uncomment and run the code below. A dialog will appear to upload files.\n",
    "# Upload 'typing-speeds.csv'.\n",
    "\n",
    "# from google.colab import files\n",
    "# uploaded = files.upload()"
   ]
  },
  {
   "cell_type": "code",
   "execution_count": 1,
   "metadata": {},
   "outputs": [
    {
     "data": {
      "text/html": [
       "<div>\n",
       "<style scoped>\n",
       "    .dataframe tbody tr th:only-of-type {\n",
       "        vertical-align: middle;\n",
       "    }\n",
       "\n",
       "    .dataframe tbody tr th {\n",
       "        vertical-align: top;\n",
       "    }\n",
       "\n",
       "    .dataframe thead th {\n",
       "        text-align: right;\n",
       "    }\n",
       "</style>\n",
       "<table border=\"1\" class=\"dataframe\">\n",
       "  <thead>\n",
       "    <tr style=\"text-align: right;\">\n",
       "      <th></th>\n",
       "      <th>PARTICIPANT_ID</th>\n",
       "      <th>AGE</th>\n",
       "      <th>HAS_TAKEN_TYPING_COURSE</th>\n",
       "      <th>COUNTRY</th>\n",
       "      <th>LAYOUT</th>\n",
       "      <th>NATIVE_LANGUAGE</th>\n",
       "      <th>FINGERS</th>\n",
       "      <th>KEYBOARD_TYPE</th>\n",
       "      <th>ERROR_RATE</th>\n",
       "      <th>AVG_WPM_15</th>\n",
       "      <th>ROR</th>\n",
       "    </tr>\n",
       "  </thead>\n",
       "  <tbody>\n",
       "    <tr>\n",
       "      <th>0</th>\n",
       "      <td>3</td>\n",
       "      <td>30</td>\n",
       "      <td>0</td>\n",
       "      <td>US</td>\n",
       "      <td>qwerty</td>\n",
       "      <td>en</td>\n",
       "      <td>1-2</td>\n",
       "      <td>full</td>\n",
       "      <td>0.511945</td>\n",
       "      <td>61.9483</td>\n",
       "      <td>0.2288</td>\n",
       "    </tr>\n",
       "    <tr>\n",
       "      <th>1</th>\n",
       "      <td>5</td>\n",
       "      <td>27</td>\n",
       "      <td>0</td>\n",
       "      <td>MY</td>\n",
       "      <td>qwerty</td>\n",
       "      <td>en</td>\n",
       "      <td>7-8</td>\n",
       "      <td>laptop</td>\n",
       "      <td>0.871080</td>\n",
       "      <td>72.8871</td>\n",
       "      <td>0.3675</td>\n",
       "    </tr>\n",
       "    <tr>\n",
       "      <th>2</th>\n",
       "      <td>7</td>\n",
       "      <td>13</td>\n",
       "      <td>0</td>\n",
       "      <td>AU</td>\n",
       "      <td>qwerty</td>\n",
       "      <td>en</td>\n",
       "      <td>7-8</td>\n",
       "      <td>laptop</td>\n",
       "      <td>6.685633</td>\n",
       "      <td>24.1809</td>\n",
       "      <td>0.0667</td>\n",
       "    </tr>\n",
       "    <tr>\n",
       "      <th>3</th>\n",
       "      <td>23</td>\n",
       "      <td>21</td>\n",
       "      <td>0</td>\n",
       "      <td>IN</td>\n",
       "      <td>qwerty</td>\n",
       "      <td>en</td>\n",
       "      <td>3-4</td>\n",
       "      <td>full</td>\n",
       "      <td>2.130493</td>\n",
       "      <td>24.7112</td>\n",
       "      <td>0.0413</td>\n",
       "    </tr>\n",
       "    <tr>\n",
       "      <th>4</th>\n",
       "      <td>24</td>\n",
       "      <td>21</td>\n",
       "      <td>0</td>\n",
       "      <td>PH</td>\n",
       "      <td>qwerty</td>\n",
       "      <td>tl</td>\n",
       "      <td>7-8</td>\n",
       "      <td>laptop</td>\n",
       "      <td>1.893287</td>\n",
       "      <td>45.3364</td>\n",
       "      <td>0.2678</td>\n",
       "    </tr>\n",
       "    <tr>\n",
       "      <th>...</th>\n",
       "      <td>...</td>\n",
       "      <td>...</td>\n",
       "      <td>...</td>\n",
       "      <td>...</td>\n",
       "      <td>...</td>\n",
       "      <td>...</td>\n",
       "      <td>...</td>\n",
       "      <td>...</td>\n",
       "      <td>...</td>\n",
       "      <td>...</td>\n",
       "      <td>...</td>\n",
       "    </tr>\n",
       "    <tr>\n",
       "      <th>168589</th>\n",
       "      <td>517932</td>\n",
       "      <td>20</td>\n",
       "      <td>0</td>\n",
       "      <td>US</td>\n",
       "      <td>qwerty</td>\n",
       "      <td>en</td>\n",
       "      <td>9-10</td>\n",
       "      <td>laptop</td>\n",
       "      <td>8.731466</td>\n",
       "      <td>24.9125</td>\n",
       "      <td>0.1842</td>\n",
       "    </tr>\n",
       "    <tr>\n",
       "      <th>168590</th>\n",
       "      <td>517936</td>\n",
       "      <td>25</td>\n",
       "      <td>0</td>\n",
       "      <td>PL</td>\n",
       "      <td>qwerty</td>\n",
       "      <td>pl</td>\n",
       "      <td>9-10</td>\n",
       "      <td>laptop</td>\n",
       "      <td>0.000000</td>\n",
       "      <td>66.2946</td>\n",
       "      <td>0.0639</td>\n",
       "    </tr>\n",
       "    <tr>\n",
       "      <th>168591</th>\n",
       "      <td>517943</td>\n",
       "      <td>38</td>\n",
       "      <td>1</td>\n",
       "      <td>US</td>\n",
       "      <td>qwerty</td>\n",
       "      <td>en</td>\n",
       "      <td>9-10</td>\n",
       "      <td>laptop</td>\n",
       "      <td>0.147929</td>\n",
       "      <td>75.6713</td>\n",
       "      <td>0.2021</td>\n",
       "    </tr>\n",
       "    <tr>\n",
       "      <th>168592</th>\n",
       "      <td>517944</td>\n",
       "      <td>28</td>\n",
       "      <td>0</td>\n",
       "      <td>GB</td>\n",
       "      <td>qwerty</td>\n",
       "      <td>en</td>\n",
       "      <td>9-10</td>\n",
       "      <td>laptop</td>\n",
       "      <td>0.278552</td>\n",
       "      <td>91.7083</td>\n",
       "      <td>0.5133</td>\n",
       "    </tr>\n",
       "    <tr>\n",
       "      <th>168593</th>\n",
       "      <td>517947</td>\n",
       "      <td>51</td>\n",
       "      <td>0</td>\n",
       "      <td>GB</td>\n",
       "      <td>qwerty</td>\n",
       "      <td>en</td>\n",
       "      <td>7-8</td>\n",
       "      <td>laptop</td>\n",
       "      <td>0.000000</td>\n",
       "      <td>56.8787</td>\n",
       "      <td>0.3409</td>\n",
       "    </tr>\n",
       "  </tbody>\n",
       "</table>\n",
       "<p>168594 rows × 11 columns</p>\n",
       "</div>"
      ],
      "text/plain": [
       "        PARTICIPANT_ID  AGE  HAS_TAKEN_TYPING_COURSE COUNTRY  LAYOUT  \\\n",
       "0                    3   30                        0      US  qwerty   \n",
       "1                    5   27                        0      MY  qwerty   \n",
       "2                    7   13                        0      AU  qwerty   \n",
       "3                   23   21                        0      IN  qwerty   \n",
       "4                   24   21                        0      PH  qwerty   \n",
       "...                ...  ...                      ...     ...     ...   \n",
       "168589          517932   20                        0      US  qwerty   \n",
       "168590          517936   25                        0      PL  qwerty   \n",
       "168591          517943   38                        1      US  qwerty   \n",
       "168592          517944   28                        0      GB  qwerty   \n",
       "168593          517947   51                        0      GB  qwerty   \n",
       "\n",
       "       NATIVE_LANGUAGE FINGERS KEYBOARD_TYPE  ERROR_RATE  AVG_WPM_15     ROR  \n",
       "0                   en     1-2          full    0.511945     61.9483  0.2288  \n",
       "1                   en     7-8        laptop    0.871080     72.8871  0.3675  \n",
       "2                   en     7-8        laptop    6.685633     24.1809  0.0667  \n",
       "3                   en     3-4          full    2.130493     24.7112  0.0413  \n",
       "4                   tl     7-8        laptop    1.893287     45.3364  0.2678  \n",
       "...                ...     ...           ...         ...         ...     ...  \n",
       "168589              en    9-10        laptop    8.731466     24.9125  0.1842  \n",
       "168590              pl    9-10        laptop    0.000000     66.2946  0.0639  \n",
       "168591              en    9-10        laptop    0.147929     75.6713  0.2021  \n",
       "168592              en    9-10        laptop    0.278552     91.7083  0.5133  \n",
       "168593              en     7-8        laptop    0.000000     56.8787  0.3409  \n",
       "\n",
       "[168594 rows x 11 columns]"
      ]
     },
     "execution_count": 1,
     "metadata": {},
     "output_type": "execute_result"
    }
   ],
   "source": [
    "import pandas as pd\n",
    "\n",
    "df = pd.read_csv('typing-speeds.csv')\n",
    "df"
   ]
  },
  {
   "cell_type": "markdown",
   "metadata": {},
   "source": [
    "\n",
    "\n",
    "| **Variable**             | **Description**                                                                 |\n",
    "|--------------------------|---------------------------------------------------------------------------------|\n",
    "| `PARTICIPANT_ID`         | Unique ID of the participant                                                   |\n",
    "| `AGE`                    | Age of the participant                                                         |\n",
    "| `HAS_TAKEN_TYPING_COURSE`| Whether the participant has taken a typing course (1 = Yes, 0 = No)            |\n",
    "| `COUNTRY`                | Country of the participant                                                     |\n",
    "| `LAYOUT`      \t\t   | Keyboard layout used (QWERTY, AZERTY, or QWERTZ)                               |\n",
    "| `NATIVE_LANGUAGE`        | Native language of the participant                                             |\n",
    "| `FINGERS`                | Number of fingers used for typing (options: 1-2, 3-4, 5-6, 7-8, 9-10)          |\n",
    "| `KEYBOARD_TYPE`          | Type of keyboard used (Full/desktop, laptop, small physical, or touch)         |\n",
    "| `ERROR_RATE(%)`          | Uncorrected error rate (as a percentage)                                       |\n",
    "| `AVG_WPM_15`             | Words per minute averaged over 15 typed sentences                              |\n",
    "| `ROR`                    | Rollover ratio                                                                 |\n"
   ]
  },
  {
   "cell_type": "markdown",
   "metadata": {},
   "source": [
    "### Project Ideas\n",
    "- Remove unnecessary columns, such as PARTICIPANT_ID, to streamline the dataset.\n",
    "\n",
    "- Rename columns (e.g `AVG_WPM_15` to `wpm`, `ROR` to `ror`, `HAS_TAKEN_TYPING_COURSE` to `course`) for brevity and clarity during analysis.\n",
    "\n",
    "Finger Count Analysis\n",
    "- Compare typing speeds across groups using different numbers of fingers, excluding the \"10+\" category for simplicity.\n",
    "\n",
    "- Control for consistency by first filtering to similar `AGE`, `KEYBOARD_LAYOUT`, `NATIVE_LANGUAGE`, `KEYBOARD_TYPE`, and `HAS_TAKEN_TYPING_COURSE` values.\n",
    "\n",
    "- Exclude participants with high error rates (ERROR_RATE > 3%) to focus on reliable data.\n",
    "\n",
    "- Drop columns after filtering if they now only have a single value.\n",
    "\n",
    "Rollover Ratio Analysis\n",
    "- The Rollover Ratio (`ROR`) represents the proportion of keypresses where a new key is pressed before releasing the previous one.\n",
    "\n",
    "- Compare typing speeds between participants with `ROR` ≤ 20% and those with `ROR` > 80%, keeping `AGE`, `KEYBOARD_TYPE`, `FINGERS`, and other variables constant.\n",
    "\n",
    "Influence of Typing Course\n",
    "- Compare typing speeds between participants with a typing course (`HAS_TAKEN_TYPING_COURSE` = 1) and without (`HAS_TAKEN_TYPING_COURSE` = 0), holding other variables such as `KEYBOARD_TYPE`, `AGE` range, and `FINGER_COUNT` constant.\n"
   ]
  },
  {
   "cell_type": "code",
   "execution_count": 2,
   "metadata": {},
   "outputs": [],
   "source": [
    "# YOUR CODE HERE (add additional cells as needed)\n",
    "\n",
    "# Remove unnecessary columns, such as PARTICIPANT_ID, to streamline the dataset.\n",
    "df = df.drop(columns=[\"PARTICIPANT_ID\"])"
   ]
  },
  {
   "cell_type": "code",
   "execution_count": 5,
   "metadata": {},
   "outputs": [],
   "source": [
    "# Rename columns (e.g `AVG_WPM_15` to `wpm`, `ROR` to `ror`, `HAS_TAKEN_TYPING_COURSE` to `course`) for brevity and clarity during analysis.\n",
    "df = df.rename(columns={\n",
    "    \"AVG_WPM_15\": \"wpm\",\n",
    "    \"ROR\": \"ror\",\n",
    "    \"HAS_TAKEN_TYPING_COURSE\": \"course\",\n",
    "})"
   ]
  },
  {
   "cell_type": "code",
   "execution_count": 6,
   "metadata": {},
   "outputs": [],
   "source": [
    "# Compare typing speeds across groups using different numbers of fingers, excluding the \"10+\" category for simplicity.\n",
    "df_filtered = df[df[\"FINGERS\"] != \"10+\"]"
   ]
  },
  {
   "cell_type": "code",
   "execution_count": 7,
   "metadata": {},
   "outputs": [],
   "source": [
    "# Exclude participants with high error rates (>3%)\n",
    "df_filtered = df_filtered[df_filtered[\"ERROR_RATE\"] <= 3]"
   ]
  },
  {
   "cell_type": "code",
   "execution_count": 8,
   "metadata": {},
   "outputs": [],
   "source": [
    "# Filter to a consistent subgroup\n",
    "df_filtered = df_filtered[\n",
    "    (df_filtered[\"AGE\"].between(20, 30)) &\n",
    "    (df_filtered[\"LAYOUT\"] == \"qwerty\") &\n",
    "    (df_filtered[\"NATIVE_LANGUAGE\"] == \"en\") &\n",
    "    (df_filtered[\"KEYBOARD_TYPE\"] == \"full\") &\n",
    "    (df_filtered[\"course\"] == 0)\n",
    "]\n"
   ]
  },
  {
   "cell_type": "code",
   "execution_count": 9,
   "metadata": {},
   "outputs": [],
   "source": [
    "# Drop now-constant columns\n",
    "df_filtered = df_filtered.drop(columns=[\"LAYOUT\", \"NATIVE_LANGUAGE\", \"KEYBOARD_TYPE\", \"course\"])"
   ]
  },
  {
   "cell_type": "code",
   "execution_count": 11,
   "metadata": {},
   "outputs": [
    {
     "data": {
      "image/png": "[encoded data removed]",
      "text/plain": [
       "<Figure size 640x480 with 1 Axes>"
      ]
     },
     "metadata": {},
     "output_type": "display_data"
    }
   ],
   "source": [
    "# Compare WPM by FINGER group\n",
    "import seaborn as sns\n",
    "import matplotlib.pyplot as plt\n",
    "\n",
    "sns.boxplot(data=df_filtered, x=\"FINGERS\", y=\"wpm\")\n",
    "plt.title(\"Typing Speed (WPM) by Finger Count\")\n",
    "plt.show()"
   ]
  },
  {
   "cell_type": "code",
   "execution_count": 13,
   "metadata": {},
   "outputs": [],
   "source": [
    "# Rollover Ratio (ROR) Analysis\n",
    "#  Create 2 ROR groups: ≤ 20% and > 80%\n",
    "df_ror = df[(df[\"ror\"] <= 0.2) | (df[\"ror\"] > 0.8)].copy()  # <--- Add .copy() here\n",
    "df_ror[\"ror_group\"] = df_ror[\"ror\"].apply(lambda x: \"≤ 20%\" if x <= 0.2 else \"> 80%\")\n"
   ]
  },
  {
   "cell_type": "code",
   "execution_count": 14,
   "metadata": {},
   "outputs": [
    {
     "name": "stdout",
     "output_type": "stream",
     "text": [
      "ror_group\n",
      "> 80%    98.214091\n",
      "≤ 20%    37.356104\n",
      "Name: wpm, dtype: float64\n"
     ]
    }
   ],
   "source": [
    "avg_wpm_by_ror = df_ror.groupby(\"ror_group\")[\"wpm\"].mean()\n",
    "print(avg_wpm_by_ror)\n"
   ]
  },
  {
   "cell_type": "code",
   "execution_count": 15,
   "metadata": {},
   "outputs": [
    {
     "data": {
      "image/png": "[encoded data removed]",
      "text/plain": [
       "<Figure size 640x480 with 1 Axes>"
      ]
     },
     "metadata": {},
     "output_type": "display_data"
    }
   ],
   "source": [
    "# Plot typing speed by ROR group\n",
    "sns.boxplot(data=df_ror, x=\"ror_group\", y=\"wpm\")\n",
    "plt.title(\"Typing Speed by Rollover Ratio\")\n",
    "plt.show()"
   ]
  },
  {
   "cell_type": "code",
   "execution_count": 16,
   "metadata": {},
   "outputs": [
    {
     "data": {
      "image/png": "[encoded data removed]",
      "text/plain": [
       "<Figure size 640x480 with 1 Axes>"
      ]
     },
     "metadata": {},
     "output_type": "display_data"
    }
   ],
   "source": [
    "#  Typing Course Influence\n",
    "# Compare WPM for course vs. no course\n",
    "\n",
    "df_course = df[\n",
    "    (df[\"AGE\"].between(20, 30)) &\n",
    "    (df[\"KEYBOARD_TYPE\"] == \"full\") &\n",
    "    (df[\"FINGERS\"] == \"7-8\")\n",
    "]\n",
    "\n",
    "sns.boxplot(data=df_course, x=\"course\", y=\"wpm\")\n",
    "plt.xticks([0, 1], [\"No Course\", \"Has Course\"])\n",
    "plt.title(\"Typing Speed by Course Experience\")\n",
    "plt.show()"
   ]
  },
  {
   "cell_type": "code",
   "execution_count": 18,
   "metadata": {},
   "outputs": [
    {
     "data": {
      "text/plain": [
       "course\n",
       "0    51.798461\n",
       "1    53.754371\n",
       "Name: wpm, dtype: float64"
      ]
     },
     "execution_count": 18,
     "metadata": {},
     "output_type": "execute_result"
    }
   ],
   "source": [
    "df_filtered.groupby(\"FINGERS\")[\"wpm\"].mean()\n",
    "df_ror.groupby(\"ror_group\")[\"wpm\"].mean()\n",
    "df_course.groupby(\"course\")[\"wpm\"].mean()"
   ]
  }
 ],
 "metadata": {
  "kernelspec": {
   "display_name": "Python 3",
   "language": "python",
   "name": "python3"
  },
  "language_info": {
   "codemirror_mode": {
    "name": "ipython",
    "version": 3
   },
   "file_extension": ".py",
   "mimetype": "text/x-python",
   "name": "python",
   "nbconvert_exporter": "python",
   "pygments_lexer": "ipython3",
   "version": "3.13.1"
  },
  "orig_nbformat": 4
 },
 "nbformat": 4,
 "nbformat_minor": 2
}
