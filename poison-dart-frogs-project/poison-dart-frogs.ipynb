{
 "cells": [
  {
   "cell_type": "markdown",
   "metadata": {},
   "source": [
    "# Poison dart frogs\n",
    "\n",
    "Can you estimate how toxic a poison dart frog is based on its brightness?\n",
    "\n",
    "Poison dart frogs are small, colorful frogs from Central and South America. They're famous for their toxic skin, which some indigenous people use for blow darts.\n",
    "\n",
    "Scientists studied the connection between the bright colors and toxicity of the poison dart frog **Dendrobates pumilio**. While they're usually red with blue legs, they can be found in about 15 different colors in Panama.\n",
    "\n",
    "The file `frog-reflectance.csv` contains the average brightness (from 0 to 1) of 10 frog populations, measured on both the back and belly.\n",
    "\n",
    "The file `frog-toxicity.csv` provides a `toxicity` score (from 0 to 1) for 48 frogs from the same 10 populations. Toxicity was tested by injecting frog skin extracts into mice and recording how long it took them to fall back asleep. Longer times suggest higher `toxicity`."
   ]
  },
  {
   "cell_type": "code",
   "execution_count": 1,
   "metadata": {},
   "outputs": [],
   "source": [
    "# FOR GOOGLE COLAB ONLY.\n",
    "# Uncomment and run the code below. A dialog will appear to upload files.\n",
    "# Upload 'frog-reflectance.csv', 'frog-toxicity.csv', and 'linear_model.py'.\n",
    "\n",
    "# from google.colab import files\n",
    "# uploaded = files.upload()"
   ]
  },
  {
   "cell_type": "code",
   "execution_count": 2,
   "metadata": {},
   "outputs": [
    {
     "data": {
      "text/html": [
       "<div>\n",
       "<style scoped>\n",
       "    .dataframe tbody tr th:only-of-type {\n",
       "        vertical-align: middle;\n",
       "    }\n",
       "\n",
       "    .dataframe tbody tr th {\n",
       "        vertical-align: top;\n",
       "    }\n",
       "\n",
       "    .dataframe thead th {\n",
       "        text-align: right;\n",
       "    }\n",
       "</style>\n",
       "<table border=\"1\" class=\"dataframe\">\n",
       "  <thead>\n",
       "    <tr style=\"text-align: right;\">\n",
       "      <th></th>\n",
       "      <th>pop_id</th>\n",
       "      <th>back_brightness</th>\n",
       "      <th>belly_brightness</th>\n",
       "    </tr>\n",
       "  </thead>\n",
       "  <tbody>\n",
       "    <tr>\n",
       "      <th>0</th>\n",
       "      <td>AG</td>\n",
       "      <td>0.43</td>\n",
       "      <td>0.46</td>\n",
       "    </tr>\n",
       "    <tr>\n",
       "      <th>1</th>\n",
       "      <td>AL</td>\n",
       "      <td>0.64</td>\n",
       "      <td>0.42</td>\n",
       "    </tr>\n",
       "    <tr>\n",
       "      <th>2</th>\n",
       "      <td>BCG</td>\n",
       "      <td>1.00</td>\n",
       "      <td>0.95</td>\n",
       "    </tr>\n",
       "    <tr>\n",
       "      <th>3</th>\n",
       "      <td>BCO</td>\n",
       "      <td>0.82</td>\n",
       "      <td>1.00</td>\n",
       "    </tr>\n",
       "    <tr>\n",
       "      <th>4</th>\n",
       "      <td>CA</td>\n",
       "      <td>0.46</td>\n",
       "      <td>0.51</td>\n",
       "    </tr>\n",
       "  </tbody>\n",
       "</table>\n",
       "</div>"
      ],
      "text/plain": [
       "  pop_id  back_brightness  belly_brightness\n",
       "0     AG             0.43              0.46\n",
       "1     AL             0.64              0.42\n",
       "2    BCG             1.00              0.95\n",
       "3    BCO             0.82              1.00\n",
       "4     CA             0.46              0.51"
      ]
     },
     "execution_count": 2,
     "metadata": {},
     "output_type": "execute_result"
    }
   ],
   "source": [
    "import pandas as pd\n",
    "import matplotlib.pyplot as plt\n",
    "from linear_model import LinearModel\n",
    "\n",
    "df = pd.read_csv('frog-reflectance.csv')\n",
    "df.head()"
   ]
  },
  {
   "cell_type": "code",
   "execution_count": 3,
   "metadata": {},
   "outputs": [
    {
     "data": {
      "text/html": [
       "<div>\n",
       "<style scoped>\n",
       "    .dataframe tbody tr th:only-of-type {\n",
       "        vertical-align: middle;\n",
       "    }\n",
       "\n",
       "    .dataframe tbody tr th {\n",
       "        vertical-align: top;\n",
       "    }\n",
       "\n",
       "    .dataframe thead th {\n",
       "        text-align: right;\n",
       "    }\n",
       "</style>\n",
       "<table border=\"1\" class=\"dataframe\">\n",
       "  <thead>\n",
       "    <tr style=\"text-align: right;\">\n",
       "      <th></th>\n",
       "      <th>pop_id</th>\n",
       "      <th>frog_id</th>\n",
       "      <th>toxicity</th>\n",
       "    </tr>\n",
       "  </thead>\n",
       "  <tbody>\n",
       "    <tr>\n",
       "      <th>0</th>\n",
       "      <td>BCO</td>\n",
       "      <td>BC167</td>\n",
       "      <td>0.886925</td>\n",
       "    </tr>\n",
       "    <tr>\n",
       "      <th>1</th>\n",
       "      <td>BCO</td>\n",
       "      <td>BC166</td>\n",
       "      <td>0.803917</td>\n",
       "    </tr>\n",
       "    <tr>\n",
       "      <th>2</th>\n",
       "      <td>BCO</td>\n",
       "      <td>BC171</td>\n",
       "      <td>0.625008</td>\n",
       "    </tr>\n",
       "    <tr>\n",
       "      <th>3</th>\n",
       "      <td>BCO</td>\n",
       "      <td>BC169</td>\n",
       "      <td>0.975847</td>\n",
       "    </tr>\n",
       "    <tr>\n",
       "      <th>4</th>\n",
       "      <td>BCO</td>\n",
       "      <td>BC165</td>\n",
       "      <td>0.774033</td>\n",
       "    </tr>\n",
       "  </tbody>\n",
       "</table>\n",
       "</div>"
      ],
      "text/plain": [
       "  pop_id frog_id  toxicity\n",
       "0    BCO   BC167  0.886925\n",
       "1    BCO   BC166  0.803917\n",
       "2    BCO   BC171  0.625008\n",
       "3    BCO   BC169  0.975847\n",
       "4    BCO   BC165  0.774033"
      ]
     },
     "execution_count": 3,
     "metadata": {},
     "output_type": "execute_result"
    }
   ],
   "source": [
    "tox = pd.read_csv('frog-toxicity.csv')\n",
    "tox.head()"
   ]
  },
  {
   "cell_type": "markdown",
   "metadata": {},
   "source": [
    "# Project Ideas\n",
    "\n",
    "- Build two linear models:\n",
    "\t- Model 1: `toxicity` (x-axis) vs. `back_brightness`\n",
    "\t\n",
    "\t- Model 2: `toxicity` vs. `belly_brightness`\n",
    "\n",
    "- To create the models, first calculate the average `toxicity` for each `pop_id`, then merge these values into the main dataframe (`df`).\n",
    "\n",
    "- Visualize the data by creating scatter plots with best-fit lines for both models.\n",
    "\n",
    "- Compare the goodness of fit between back and belly brightness and explore possible biological explanations for any differences in correlation.\n"
   ]
  },
  {
   "cell_type": "code",
   "execution_count": 4,
   "metadata": {},
   "outputs": [],
   "source": [
    "# YOUR CODE HERE (add additional cells as needed)\n",
    "\n",
    "# Linear model API\n",
    "\n",
    "# linear = LinearModel()\n",
    "# linear.fit(x, y)\n",
    "# linear.predict(x)\n",
    "# linear.plot_model(x_min, x_max, color=\"black\")\n",
    "# linear.print_model_info(self):\n"
   ]
  },
  {
   "cell_type": "code",
   "execution_count": 6,
   "metadata": {},
   "outputs": [
    {
     "name": "stdout",
     "output_type": "stream",
     "text": [
      "  pop_id  toxicity\n",
      "0     AG  0.632902\n",
      "1     AL  0.500877\n",
      "2    BCG  0.885207\n",
      "3    BCO  0.813146\n",
      "4     CA  0.364581\n",
      "5     CO  0.209414\n",
      "6   PoSo  0.293478\n",
      "7     SC  0.618246\n",
      "8     SH  0.387053\n",
      "9     SO  1.000000\n"
     ]
    },
    {
     "data": {
      "image/png": "[encoded data removed]",
      "text/plain": [
       "<Figure size 1200x500 with 2 Axes>"
      ]
     },
     "metadata": {},
     "output_type": "display_data"
    },
    {
     "name": "stdout",
     "output_type": "stream",
     "text": [
      "R² for back brightness model: 0.607\n",
      "R² for belly brightness model: 0.184\n"
     ]
    }
   ],
   "source": [
    "import pandas as pd\n",
    "import matplotlib.pyplot as plt\n",
    "from sklearn.linear_model import LinearRegression\n",
    "from sklearn.metrics import r2_score\n",
    "import numpy as np\n",
    "\n",
    "# Load data\n",
    "tox = pd.read_csv(\"frog-toxicity.csv\")\n",
    "reflect = pd.read_csv(\"frog-reflectance.csv\")\n",
    "\n",
    "# Clean any whitespace from column names\n",
    "reflect.columns = reflect.columns.str.strip()\n",
    "\n",
    "# Step 1: Compute average toxicity per pop_id\n",
    "avg_tox = tox.groupby(\"pop_id\")[\"toxicity\"].mean().reset_index()\n",
    "print(avg_tox)\n",
    "\n",
    "# Step 2: Merge into reflectance dataframe\n",
    "df = reflect.merge(avg_tox, on=\"pop_id\", how=\"inner\")\n",
    "\n",
    "# Step 3a: Model 1 - Back brightness\n",
    "X_back = df[[\"back_brightness\"]]\n",
    "y = df[\"toxicity\"]\n",
    "model_back = LinearRegression().fit(X_back, y)\n",
    "df[\"pred_back\"] = model_back.predict(X_back)\n",
    "\n",
    "# Step 3b: Model 2 - Belly brightness\n",
    "X_belly = df[[\"belly_brightness\"]]\n",
    "model_belly = LinearRegression().fit(X_belly, y)\n",
    "df[\"pred_belly\"] = model_belly.predict(X_belly)\n",
    "\n",
    "# Step 4: Visualization\n",
    "plt.figure(figsize=(12, 5))\n",
    "\n",
    "# Back\n",
    "plt.subplot(1, 2, 1)\n",
    "plt.scatter(df[\"back_brightness\"], df[\"toxicity\"], label=\"Data\")\n",
    "plt.plot(df[\"back_brightness\"], df[\"pred_back\"], color=\"red\", label=\"Fit\")\n",
    "plt.xlabel(\"Back Brightness\")\n",
    "plt.ylabel(\"Average Toxicity\")\n",
    "plt.title(\"Back Brightness vs Toxicity\")\n",
    "plt.legend()\n",
    "\n",
    "# Belly\n",
    "plt.subplot(1, 2, 2)\n",
    "plt.scatter(df[\"belly_brightness\"], df[\"toxicity\"], label=\"Data\")\n",
    "plt.plot(df[\"belly_brightness\"], df[\"pred_belly\"], color=\"green\", label=\"Fit\")\n",
    "plt.xlabel(\"Belly Brightness\")\n",
    "plt.ylabel(\"Average Toxicity\")\n",
    "plt.title(\"Belly Brightness vs Toxicity\")\n",
    "plt.legend()\n",
    "\n",
    "plt.tight_layout()\n",
    "plt.show()\n",
    "\n",
    "# Step 5: Compare R²\n",
    "r2_back = r2_score(y, df[\"pred_back\"])\n",
    "r2_belly = r2_score(y, df[\"pred_belly\"])\n",
    "print(f\"R² for back brightness model: {r2_back:.3f}\")\n",
    "print(f\"R² for belly brightness model: {r2_belly:.3f}\")\n"
   ]
  },
  {
   "cell_type": "markdown",
   "metadata": {},
   "source": [
    "Are brightly colored frogs more poisonous?\n",
    "\n",
    "Yes, in general, frogs with higher brightness tend to have higher toxicity."
   ]
  }
 ],
 "metadata": {
  "kernelspec": {
   "display_name": "Python 3",
   "language": "python",
   "name": "python3"
  },
  "language_info": {
   "codemirror_mode": {
    "name": "ipython",
    "version": 3
   },
   "file_extension": ".py",
   "mimetype": "text/x-python",
   "name": "python",
   "nbconvert_exporter": "python",
   "pygments_lexer": "ipython3",
   "version": "3.13.1"
  }
 },
 "nbformat": 4,
 "nbformat_minor": 2
}
