{
 "cells": [
  {
   "cell_type": "markdown",
   "metadata": {},
   "source": [
    "# Jean pockets\n",
    "\n",
    "Are women jean pockets ridiculously small? Let's look at the data!\n",
    "\n",
    "The file `jean-pocket-measurements.csv` shows pocket measurements for 20 popular brands.\n",
    "Four pairs of jeans from each brand were measured: men's and women's skinny and straight styles. All jeans were designated a 32-inch waistband. \n",
    "\n",
    "The following measurements are included:\n",
    "- `height_front`: maximum front pocket height (cm)\n",
    "- `height_back`: maximum back pocket height (cm)\n",
    "- `width_front`: maximum front pocket width (cm)\n",
    "- `width_back`: maximum back pocket width (cm)"
   ]
  },
  {
   "cell_type": "code",
   "execution_count": 5,
   "metadata": {},
   "outputs": [],
   "source": [
    "# FOR GOOGLE COLAB ONLY.\n",
    "# Uncomment and run the code below. A dialog will appear to upload files.\n",
    "# Upload 'jean-pocket-measurements.csv'.\n",
    "\n",
    "# from google.colab import files\n",
    "# uploaded = files.upload()"
   ]
  },
  {
   "cell_type": "code",
   "execution_count": 6,
   "metadata": {},
   "outputs": [
    {
     "data": {
      "text/html": [
       "<div>\n",
       "<style scoped>\n",
       "    .dataframe tbody tr th:only-of-type {\n",
       "        vertical-align: middle;\n",
       "    }\n",
       "\n",
       "    .dataframe tbody tr th {\n",
       "        vertical-align: top;\n",
       "    }\n",
       "\n",
       "    .dataframe thead th {\n",
       "        text-align: right;\n",
       "    }\n",
       "</style>\n",
       "<table border=\"1\" class=\"dataframe\">\n",
       "  <thead>\n",
       "    <tr style=\"text-align: right;\">\n",
       "      <th></th>\n",
       "      <th>brand</th>\n",
       "      <th>style</th>\n",
       "      <th>gender</th>\n",
       "      <th>height_front</th>\n",
       "      <th>width_front</th>\n",
       "      <th>height_back</th>\n",
       "      <th>width_back</th>\n",
       "    </tr>\n",
       "  </thead>\n",
       "  <tbody>\n",
       "    <tr>\n",
       "      <th>0</th>\n",
       "      <td>3fe5003e</td>\n",
       "      <td>skinny</td>\n",
       "      <td>women</td>\n",
       "      <td>14.5</td>\n",
       "      <td>16.5</td>\n",
       "      <td>15.0</td>\n",
       "      <td>13.7</td>\n",
       "    </tr>\n",
       "    <tr>\n",
       "      <th>1</th>\n",
       "      <td>3fe5003e</td>\n",
       "      <td>straight</td>\n",
       "      <td>women</td>\n",
       "      <td>14.5</td>\n",
       "      <td>16.0</td>\n",
       "      <td>15.5</td>\n",
       "      <td>13.0</td>\n",
       "    </tr>\n",
       "    <tr>\n",
       "      <th>2</th>\n",
       "      <td>790c6eab</td>\n",
       "      <td>skinny</td>\n",
       "      <td>women</td>\n",
       "      <td>13.0</td>\n",
       "      <td>14.5</td>\n",
       "      <td>15.5</td>\n",
       "      <td>13.5</td>\n",
       "    </tr>\n",
       "    <tr>\n",
       "      <th>3</th>\n",
       "      <td>790c6eab</td>\n",
       "      <td>straight</td>\n",
       "      <td>women</td>\n",
       "      <td>13.0</td>\n",
       "      <td>14.5</td>\n",
       "      <td>14.5</td>\n",
       "      <td>13.0</td>\n",
       "    </tr>\n",
       "    <tr>\n",
       "      <th>4</th>\n",
       "      <td>26aaf627</td>\n",
       "      <td>skinny</td>\n",
       "      <td>women</td>\n",
       "      <td>13.0</td>\n",
       "      <td>14.0</td>\n",
       "      <td>14.0</td>\n",
       "      <td>14.2</td>\n",
       "    </tr>\n",
       "  </tbody>\n",
       "</table>\n",
       "</div>"
      ],
      "text/plain": [
       "      brand     style gender  height_front  width_front  height_back  \\\n",
       "0  3fe5003e    skinny  women          14.5         16.5         15.0   \n",
       "1  3fe5003e  straight  women          14.5         16.0         15.5   \n",
       "2  790c6eab    skinny  women          13.0         14.5         15.5   \n",
       "3  790c6eab  straight  women          13.0         14.5         14.5   \n",
       "4  26aaf627    skinny  women          13.0         14.0         14.0   \n",
       "\n",
       "   width_back  \n",
       "0        13.7  \n",
       "1        13.0  \n",
       "2        13.5  \n",
       "3        13.0  \n",
       "4        14.2  "
      ]
     },
     "execution_count": 6,
     "metadata": {},
     "output_type": "execute_result"
    }
   ],
   "source": [
    "import pandas as pd\n",
    "df = pd.read_csv('jean-pocket-measurements.csv')\n",
    "df.head()"
   ]
  },
  {
   "cell_type": "markdown",
   "metadata": {},
   "source": [
    "### Project Ideas\n",
    "\n",
    "- What is the average difference in pocket `height_front` between women's and men's jeans?\n",
    "\n",
    "- Is there a significant difference in pocket `height_front` between skinny and straight styles within the same gender?\n",
    "\n",
    "- How do back pocket sizes compare between women's and men's jeans?\n",
    "\n",
    "- Measure your phone's height. What percentage of women's and men's jeans can comfortably fit your phone in the pockets?\n",
    "\n"
   ]
  },
  {
   "cell_type": "code",
   "execution_count": 7,
   "metadata": {},
   "outputs": [
    {
     "data": {
      "text/plain": [
       "gender\n",
       "men      23.1300\n",
       "women    14.3275\n",
       "Name: height_front, dtype: float64"
      ]
     },
     "execution_count": 7,
     "metadata": {},
     "output_type": "execute_result"
    }
   ],
   "source": [
    "# YOUR CODE HERE (add more cells as needed)\n",
    "# What is the average difference in pocket `height_front` between women's and men's jeans?\n",
    "\n",
    "df.groupby('gender')['height_front'].mean()"
   ]
  },
  {
   "cell_type": "code",
   "execution_count": 8,
   "metadata": {},
   "outputs": [
    {
     "data": {
      "text/plain": [
       "gender  style   \n",
       "men     skinny      23.185\n",
       "        straight    23.075\n",
       "women   skinny      14.270\n",
       "        straight    14.385\n",
       "Name: height_front, dtype: float64"
      ]
     },
     "execution_count": 8,
     "metadata": {},
     "output_type": "execute_result"
    }
   ],
   "source": [
    "# Is there a significant difference in pocket `height_front` between skinny and straight styles within the same gender?\n",
    "\n",
    "df.groupby(['gender', 'style'])['height_front'].mean()"
   ]
  },
  {
   "cell_type": "code",
   "execution_count": 9,
   "metadata": {},
   "outputs": [
    {
     "data": {
      "text/html": [
       "<div>\n",
       "<style scoped>\n",
       "    .dataframe tbody tr th:only-of-type {\n",
       "        vertical-align: middle;\n",
       "    }\n",
       "\n",
       "    .dataframe tbody tr th {\n",
       "        vertical-align: top;\n",
       "    }\n",
       "\n",
       "    .dataframe thead th {\n",
       "        text-align: right;\n",
       "    }\n",
       "</style>\n",
       "<table border=\"1\" class=\"dataframe\">\n",
       "  <thead>\n",
       "    <tr style=\"text-align: right;\">\n",
       "      <th></th>\n",
       "      <th>height_back</th>\n",
       "      <th>width_back</th>\n",
       "    </tr>\n",
       "    <tr>\n",
       "      <th>gender</th>\n",
       "      <th></th>\n",
       "      <th></th>\n",
       "    </tr>\n",
       "  </thead>\n",
       "  <tbody>\n",
       "    <tr>\n",
       "      <th>men</th>\n",
       "      <td>16.0075</td>\n",
       "      <td>13.7025</td>\n",
       "    </tr>\n",
       "    <tr>\n",
       "      <th>women</th>\n",
       "      <td>15.1225</td>\n",
       "      <td>13.3400</td>\n",
       "    </tr>\n",
       "  </tbody>\n",
       "</table>\n",
       "</div>"
      ],
      "text/plain": [
       "        height_back  width_back\n",
       "gender                         \n",
       "men         16.0075     13.7025\n",
       "women       15.1225     13.3400"
      ]
     },
     "execution_count": 9,
     "metadata": {},
     "output_type": "execute_result"
    }
   ],
   "source": [
    "# How do back pocket sizes compare between women's and men's jeans?\n",
    "\n",
    "df.groupby('gender')[['height_back', 'width_back']].mean()"
   ]
  },
  {
   "cell_type": "code",
   "execution_count": 10,
   "metadata": {},
   "outputs": [
    {
     "name": "stdout",
     "output_type": "stream",
     "text": [
      "65.00% of front pockets can fit a phone 15cm tall\n"
     ]
    }
   ],
   "source": [
    "# Measure your phone's height. What percentage of women's and men's jeans can comfortably fit your phone in the pockets?\n",
    "phone_height = 15\n",
    "\n",
    "# Percentage of front pockets that can fit the phone\n",
    "front_fit_percent = (df['height_front'] >= phone_height).mean() * 100\n",
    "print(f\"{front_fit_percent:.2f}% of front pockets can fit a phone 15cm tall\")\n"
   ]
  },
  {
   "cell_type": "code",
   "execution_count": 11,
   "metadata": {},
   "outputs": [
    {
     "data": {
      "text/plain": [
       "gender\n",
       "men      100.0\n",
       "women     30.0\n",
       "Name: phone_fits, dtype: float64"
      ]
     },
     "execution_count": 11,
     "metadata": {},
     "output_type": "execute_result"
    }
   ],
   "source": [
    "df['phone_fits'] = df['height_front'] >= phone_height\n",
    "df.groupby('gender')['phone_fits'].mean() * 100\n"
   ]
  }
 ],
 "metadata": {
  "kernelspec": {
   "display_name": "base",
   "language": "python",
   "name": "python3"
  },
  "language_info": {
   "codemirror_mode": {
    "name": "ipython",
    "version": 3
   },
   "file_extension": ".py",
   "mimetype": "text/x-python",
   "name": "python",
   "nbconvert_exporter": "python",
   "pygments_lexer": "ipython3",
   "version": "3.9.13"
  }
 },
 "nbformat": 4,
 "nbformat_minor": 2
}
