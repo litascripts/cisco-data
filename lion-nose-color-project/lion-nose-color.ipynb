{
 "cells": [
  {
   "cell_type": "markdown",
   "metadata": {},
   "source": [
    "# Lion Nose Color\n",
    "\n",
    "Can you estimate a lion's age from a photograph of its nose?\n",
    "\n",
    "Lions are born with pink noses that gradually darken with age, developing black freckles until they eventually turn completely black.\n",
    "\n",
    "The dataset `lion-nose-color.csv` contains data on 91 lions from the Serengeti, each monitored by researchers since birth. Because their exact ages are known, researchers can analyze photographs to determine the percentage of black on their noses and assess how well nose coloration predicts age."
   ]
  },
  {
   "cell_type": "code",
   "execution_count": 1,
   "metadata": {},
   "outputs": [],
   "source": [
    "# FOR GOOGLE COLAB ONLY.\n",
    "# Uncomment and run the code below. A dialog will appear to upload files.\n",
    "# Upload 'lion-nose-color.csv' and 'linear_model.py'.\n",
    "\n",
    "# from google.colab import files\n",
    "# uploaded = files.upload()"
   ]
  },
  {
   "cell_type": "code",
   "execution_count": 2,
   "metadata": {},
   "outputs": [
    {
     "data": {
      "text/html": [
       "<div>\n",
       "<style scoped>\n",
       "    .dataframe tbody tr th:only-of-type {\n",
       "        vertical-align: middle;\n",
       "    }\n",
       "\n",
       "    .dataframe tbody tr th {\n",
       "        vertical-align: top;\n",
       "    }\n",
       "\n",
       "    .dataframe thead th {\n",
       "        text-align: right;\n",
       "    }\n",
       "</style>\n",
       "<table border=\"1\" class=\"dataframe\">\n",
       "  <thead>\n",
       "    <tr style=\"text-align: right;\">\n",
       "      <th></th>\n",
       "      <th>age</th>\n",
       "      <th>proportion_black</th>\n",
       "    </tr>\n",
       "  </thead>\n",
       "  <tbody>\n",
       "    <tr>\n",
       "      <th>0</th>\n",
       "      <td>1.10</td>\n",
       "      <td>21.1</td>\n",
       "    </tr>\n",
       "    <tr>\n",
       "      <th>1</th>\n",
       "      <td>4.19</td>\n",
       "      <td>34.9</td>\n",
       "    </tr>\n",
       "    <tr>\n",
       "      <th>2</th>\n",
       "      <td>1.91</td>\n",
       "      <td>26.8</td>\n",
       "    </tr>\n",
       "    <tr>\n",
       "      <th>3</th>\n",
       "      <td>8.16</td>\n",
       "      <td>84.8</td>\n",
       "    </tr>\n",
       "    <tr>\n",
       "      <th>4</th>\n",
       "      <td>7.32</td>\n",
       "      <td>47.9</td>\n",
       "    </tr>\n",
       "  </tbody>\n",
       "</table>\n",
       "</div>"
      ],
      "text/plain": [
       "    age  proportion_black\n",
       "0  1.10              21.1\n",
       "1  4.19              34.9\n",
       "2  1.91              26.8\n",
       "3  8.16              84.8\n",
       "4  7.32              47.9"
      ]
     },
     "execution_count": 2,
     "metadata": {},
     "output_type": "execute_result"
    }
   ],
   "source": [
    "import pandas as pd\n",
    "import matplotlib.pyplot as plt\n",
    "from linear_model import LinearModel\n",
    "\n",
    "df = pd.read_csv('lion-nose-color.csv')\n",
    "df.head()"
   ]
  },
  {
   "cell_type": "markdown",
   "metadata": {},
   "source": [
    "# Project Ideas\n",
    "\n",
    "- Create a linear regression model to predict `age` from `proportion_black`\n",
    "\n",
    "- Use the model to estimate a lion's age when its nose is 50% black. \n",
    "\n",
    "#### Considerations\n",
    "- Can you determine a lion's age when its nose is 100% black? Why or why not?"
   ]
  },
  {
   "cell_type": "code",
   "execution_count": 3,
   "metadata": {},
   "outputs": [],
   "source": [
    "# YOUR CODE HERE (add additional cells as needed)\n",
    "\n",
    "# Linear model API\n",
    "\n",
    "# linear = LinearModel()\n",
    "# linear.fit(x, y)\n",
    "# linear.predict(x)\n",
    "# linear.plot_model(x_min, x_max, color=\"black\")\n",
    "# linear.print_model_info(self):\n"
   ]
  },
  {
   "cell_type": "code",
   "execution_count": 16,
   "metadata": {},
   "outputs": [
    {
     "name": "stdout",
     "output_type": "stream",
     "text": [
      "Model: age = 1.49 + 0.08 * proportion_black\n"
     ]
    }
   ],
   "source": [
    "# Define features and target\n",
    "# Assuming you have already defined x and y\n",
    "x = df[\"proportion_black\"]\n",
    "y = df[\"age\"]\n",
    "\n",
    "linear = LinearModel()\n",
    "linear.fit(x, y)\n",
    "\n",
    "# Print model info (intercept and slope)\n",
    "print(f\"Model: age = {model.intercept:.2f} + {model.slope:.2f} * proportion_black\")"
   ]
  },
  {
   "cell_type": "code",
   "execution_count": 11,
   "metadata": {},
   "outputs": [
    {
     "name": "stdout",
     "output_type": "stream",
     "text": [
      "Predicted age for 50% black nose: 5.42 years\n"
     ]
    }
   ],
   "source": [
    "# Predict age when nose is 50% black\n",
    "import numpy as np\n",
    "pred_50 = linear.predict(np.array([50.0]))[0]\n",
    "print(f\"Predicted age for 50% black nose: {pred_50:.2f} years\")"
   ]
  },
  {
   "cell_type": "code",
   "execution_count": 13,
   "metadata": {},
   "outputs": [
    {
     "name": "stdout",
     "output_type": "stream",
     "text": [
      "Predicted age for 100% black nose: 9.36 years\n"
     ]
    }
   ],
   "source": [
    "# Predict age when nose is 100% black\n",
    "pred_100 = linear.predict(np.array([100.0]))[0]\n",
    "print(f\"Predicted age for 100% black nose: {pred_100:.2f} years\")"
   ]
  },
  {
   "cell_type": "code",
   "execution_count": 14,
   "metadata": {},
   "outputs": [
    {
     "data": {
      "image/png": "[encoded data removed]",
      "text/plain": [
       "<Figure size 640x480 with 1 Axes>"
      ]
     },
     "metadata": {},
     "output_type": "display_data"
    }
   ],
   "source": [
    "# Plot the data and model\n",
    "plt.scatter(x, y, color='orange', label='Data')\n",
    "linear.plot_model(x_min=0, x_max=100, color='black')\n",
    "plt.xlabel(\"Proportion Black Nose (%)\")\n",
    "plt.ylabel(\"Age (years)\")\n",
    "plt.title(\"Lion Age vs. Nose Blackness\")\n",
    "plt.legend()\n",
    "plt.show()"
   ]
  }
 ],
 "metadata": {
  "kernelspec": {
   "display_name": "Python 3",
   "language": "python",
   "name": "python3"
  },
  "language_info": {
   "codemirror_mode": {
    "name": "ipython",
    "version": 3
   },
   "file_extension": ".py",
   "mimetype": "text/x-python",
   "name": "python",
   "nbconvert_exporter": "python",
   "pygments_lexer": "ipython3",
   "version": "3.13.1"
  }
 },
 "nbformat": 4,
 "nbformat_minor": 2
}
