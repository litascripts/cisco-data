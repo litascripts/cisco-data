{
 "cells": [
  {
   "cell_type": "markdown",
   "metadata": {},
   "source": [
    "# Our World Connected\n",
    "\n",
    "[Project extensions are at the bottom of this file]\n",
    "\n",
    "Cisco's technology forms the backbone of the Internet, connecting the world as a global community.\n",
    "\n",
    "In this project, you will explore the rapid rise of the Internet and evaluate how close we are to a fully connected world.\n",
    "\n",
    "### World internet users\n",
    "\n",
    "The file `'world-internet-users.csv'` shows the number of Internet users by year. Here a user is defined as someone who has accessed the Internet within the last three months.\n",
    "\n",
    "Activity Goals:\n",
    "- Import pandas and matplotlib.\n",
    "- Load the data.\n",
    "- Display the dataframe."
   ]
  },
  {
   "cell_type": "code",
   "execution_count": null,
   "metadata": {},
   "outputs": [],
   "source": [
    "# FOR GOOGLE COLAB ONLY.\n",
    "# Uncomment and run the code below. A dialog will appear to upload files.\n",
    "# Upload 'world-internet-users.csv' and 'historical-world-population.csv'.\n",
    "\n",
    "# from google.colab import files\n",
    "# uploaded = files.upload()"
   ]
  },
  {
   "cell_type": "code",
   "execution_count": 2,
   "metadata": {},
   "outputs": [
    {
     "data": {
      "text/html": [
       "<div>\n",
       "<style scoped>\n",
       "    .dataframe tbody tr th:only-of-type {\n",
       "        vertical-align: middle;\n",
       "    }\n",
       "\n",
       "    .dataframe tbody tr th {\n",
       "        vertical-align: top;\n",
       "    }\n",
       "\n",
       "    .dataframe thead th {\n",
       "        text-align: right;\n",
       "    }\n",
       "</style>\n",
       "<table border=\"1\" class=\"dataframe\">\n",
       "  <thead>\n",
       "    <tr style=\"text-align: right;\">\n",
       "      <th></th>\n",
       "      <th>year</th>\n",
       "      <th>internet_users</th>\n",
       "    </tr>\n",
       "  </thead>\n",
       "  <tbody>\n",
       "    <tr>\n",
       "      <th>0</th>\n",
       "      <td>1990</td>\n",
       "      <td>3000000</td>\n",
       "    </tr>\n",
       "    <tr>\n",
       "      <th>1</th>\n",
       "      <td>1991</td>\n",
       "      <td>4000000</td>\n",
       "    </tr>\n",
       "    <tr>\n",
       "      <th>2</th>\n",
       "      <td>1992</td>\n",
       "      <td>7000000</td>\n",
       "    </tr>\n",
       "    <tr>\n",
       "      <th>...</th>\n",
       "      <td>...</td>\n",
       "      <td>...</td>\n",
       "    </tr>\n",
       "    <tr>\n",
       "      <th>32</th>\n",
       "      <td>2022</td>\n",
       "      <td>5300000000</td>\n",
       "    </tr>\n",
       "    <tr>\n",
       "      <th>33</th>\n",
       "      <td>2023</td>\n",
       "      <td>5400000000</td>\n",
       "    </tr>\n",
       "    <tr>\n",
       "      <th>34</th>\n",
       "      <td>2024</td>\n",
       "      <td>5450000000</td>\n",
       "    </tr>\n",
       "  </tbody>\n",
       "</table>\n",
       "<p>35 rows × 2 columns</p>\n",
       "</div>"
      ],
      "text/plain": [
       "    year  internet_users\n",
       "0   1990         3000000\n",
       "1   1991         4000000\n",
       "2   1992         7000000\n",
       "..   ...             ...\n",
       "32  2022      5300000000\n",
       "33  2023      5400000000\n",
       "34  2024      5450000000\n",
       "\n",
       "[35 rows x 2 columns]"
      ]
     },
     "execution_count": 2,
     "metadata": {},
     "output_type": "execute_result"
    }
   ],
   "source": [
    "import pandas as pd\n",
    "import matplotlib.pyplot as plt\n",
    "pd.options.display.max_rows = 6   # Show only 6 rows of output\n",
    "pd.options.mode.chained_assignment = None  # Suppress SettingWithCopyWarning\n",
    "internet = pd.read_csv('world-internet-users.csv')\n",
    "internet"
   ]
  },
  {
   "cell_type": "markdown",
   "metadata": {},
   "source": [
    "There are 35 rows of data, representing the years from 1990 to 2024.\n",
    "\n",
    "In 1990, there were only 3 million Internet users.\n",
    "\n",
    "In what year did the number of Internet users exceed 100 million? We can answer this question using the `query( )` method.\n",
    "\n",
    "Activity Goals:\n",
    "- Find rows where internet_users > 100 million.\n",
    "- Show first result.\n"
   ]
  },
  {
   "cell_type": "code",
   "execution_count": 3,
   "metadata": {},
   "outputs": [
    {
     "data": {
      "text/html": [
       "<div>\n",
       "<style scoped>\n",
       "    .dataframe tbody tr th:only-of-type {\n",
       "        vertical-align: middle;\n",
       "    }\n",
       "\n",
       "    .dataframe tbody tr th {\n",
       "        vertical-align: top;\n",
       "    }\n",
       "\n",
       "    .dataframe thead th {\n",
       "        text-align: right;\n",
       "    }\n",
       "</style>\n",
       "<table border=\"1\" class=\"dataframe\">\n",
       "  <thead>\n",
       "    <tr style=\"text-align: right;\">\n",
       "      <th></th>\n",
       "      <th>year</th>\n",
       "      <th>internet_users</th>\n",
       "    </tr>\n",
       "  </thead>\n",
       "  <tbody>\n",
       "    <tr>\n",
       "      <th>7</th>\n",
       "      <td>1997</td>\n",
       "      <td>120000000</td>\n",
       "    </tr>\n",
       "  </tbody>\n",
       "</table>\n",
       "</div>"
      ],
      "text/plain": [
       "   year  internet_users\n",
       "7  1997       120000000"
      ]
     },
     "execution_count": 3,
     "metadata": {},
     "output_type": "execute_result"
    }
   ],
   "source": [
    "exceeds_100M = internet.query('internet_users > 100e6')\n",
    "exceeds_100M.head(1)"
   ]
  },
  {
   "cell_type": "markdown",
   "metadata": {},
   "source": [
    "Internet users went from 3 million in 1990 to over 100 million in 7 years.\n",
    "\n",
    "That's a lot of people, but what percentage of the world's population does this represent? To answer this, we need to load in global population data.\n",
    "\n",
    "### World population data\n",
    "\n",
    "The file `historical-world-population.csv` contains world population estimates going back thousands of years. Load in the data and let's see how far back it goes.\n",
    "\n",
    "Activity Goals:\n",
    "- Load population data.\n",
    "- Display the DataFrame.\n"
   ]
  },
  {
   "cell_type": "code",
   "execution_count": 4,
   "metadata": {},
   "outputs": [
    {
     "data": {
      "text/html": [
       "<div>\n",
       "<style scoped>\n",
       "    .dataframe tbody tr th:only-of-type {\n",
       "        vertical-align: middle;\n",
       "    }\n",
       "\n",
       "    .dataframe tbody tr th {\n",
       "        vertical-align: top;\n",
       "    }\n",
       "\n",
       "    .dataframe thead th {\n",
       "        text-align: right;\n",
       "    }\n",
       "</style>\n",
       "<table border=\"1\" class=\"dataframe\">\n",
       "  <thead>\n",
       "    <tr style=\"text-align: right;\">\n",
       "      <th></th>\n",
       "      <th>year</th>\n",
       "      <th>population</th>\n",
       "    </tr>\n",
       "  </thead>\n",
       "  <tbody>\n",
       "    <tr>\n",
       "      <th>0</th>\n",
       "      <td>-10000</td>\n",
       "      <td>4501152</td>\n",
       "    </tr>\n",
       "    <tr>\n",
       "      <th>1</th>\n",
       "      <td>-9000</td>\n",
       "      <td>5687125</td>\n",
       "    </tr>\n",
       "    <tr>\n",
       "      <th>2</th>\n",
       "      <td>-8000</td>\n",
       "      <td>7314623</td>\n",
       "    </tr>\n",
       "    <tr>\n",
       "      <th>...</th>\n",
       "      <td>...</td>\n",
       "      <td>...</td>\n",
       "    </tr>\n",
       "    <tr>\n",
       "      <th>122</th>\n",
       "      <td>2020</td>\n",
       "      <td>7887001284</td>\n",
       "    </tr>\n",
       "    <tr>\n",
       "      <th>123</th>\n",
       "      <td>2021</td>\n",
       "      <td>7954448405</td>\n",
       "    </tr>\n",
       "    <tr>\n",
       "      <th>124</th>\n",
       "      <td>2022</td>\n",
       "      <td>8021407170</td>\n",
       "    </tr>\n",
       "  </tbody>\n",
       "</table>\n",
       "<p>125 rows × 2 columns</p>\n",
       "</div>"
      ],
      "text/plain": [
       "      year  population\n",
       "0   -10000     4501152\n",
       "1    -9000     5687125\n",
       "2    -8000     7314623\n",
       "..     ...         ...\n",
       "122   2020  7887001284\n",
       "123   2021  7954448405\n",
       "124   2022  8021407170\n",
       "\n",
       "[125 rows x 2 columns]"
      ]
     },
     "execution_count": 4,
     "metadata": {},
     "output_type": "execute_result"
    }
   ],
   "source": [
    "population = pd.read_csv('historical-world-population.csv')\n",
    "population #display it\n"
   ]
  },
  {
   "cell_type": "markdown",
   "metadata": {},
   "source": [
    "The population estimates go back to the year 10,000 BCE!\n",
    "\n",
    "Let's merge both dataframes together so we have both population and internet_users columns in one structure.\n",
    "\n",
    "### Merge the data using 'left'\n",
    "\n",
    "There are multiple ways to combine dataframes. When bringing together columns, we suggest using a left merge.\n",
    "\n",
    "The `merge()` method allows you to specify the column to align on. In this case, we want to align on the `year` column.\n",
    "\n",
    "This left merge will start with all years in the left dataframe, and ignore any extra years from the right dataFrame. This is useful here becase we are not interested in all the years before 1990 going back to 10,000 BCE!\n",
    "\n",
    "Activity Goals:\n",
    "- Merge internet and population data.\n",
    "- Use a left merge on the `year` column.\n",
    "- Display the results.\n"
   ]
  },
  {
   "cell_type": "code",
   "execution_count": 5,
   "metadata": {},
   "outputs": [
    {
     "data": {
      "text/html": [
       "<div>\n",
       "<style scoped>\n",
       "    .dataframe tbody tr th:only-of-type {\n",
       "        vertical-align: middle;\n",
       "    }\n",
       "\n",
       "    .dataframe tbody tr th {\n",
       "        vertical-align: top;\n",
       "    }\n",
       "\n",
       "    .dataframe thead th {\n",
       "        text-align: right;\n",
       "    }\n",
       "</style>\n",
       "<table border=\"1\" class=\"dataframe\">\n",
       "  <thead>\n",
       "    <tr style=\"text-align: right;\">\n",
       "      <th></th>\n",
       "      <th>year</th>\n",
       "      <th>internet_users</th>\n",
       "      <th>population</th>\n",
       "    </tr>\n",
       "  </thead>\n",
       "  <tbody>\n",
       "    <tr>\n",
       "      <th>0</th>\n",
       "      <td>1990</td>\n",
       "      <td>3000000</td>\n",
       "      <td>5.327803e+09</td>\n",
       "    </tr>\n",
       "    <tr>\n",
       "      <th>1</th>\n",
       "      <td>1991</td>\n",
       "      <td>4000000</td>\n",
       "      <td>5.418736e+09</td>\n",
       "    </tr>\n",
       "    <tr>\n",
       "      <th>2</th>\n",
       "      <td>1992</td>\n",
       "      <td>7000000</td>\n",
       "      <td>5.505990e+09</td>\n",
       "    </tr>\n",
       "    <tr>\n",
       "      <th>...</th>\n",
       "      <td>...</td>\n",
       "      <td>...</td>\n",
       "      <td>...</td>\n",
       "    </tr>\n",
       "    <tr>\n",
       "      <th>32</th>\n",
       "      <td>2022</td>\n",
       "      <td>5300000000</td>\n",
       "      <td>8.021407e+09</td>\n",
       "    </tr>\n",
       "    <tr>\n",
       "      <th>33</th>\n",
       "      <td>2023</td>\n",
       "      <td>5400000000</td>\n",
       "      <td>NaN</td>\n",
       "    </tr>\n",
       "    <tr>\n",
       "      <th>34</th>\n",
       "      <td>2024</td>\n",
       "      <td>5450000000</td>\n",
       "      <td>NaN</td>\n",
       "    </tr>\n",
       "  </tbody>\n",
       "</table>\n",
       "<p>35 rows × 3 columns</p>\n",
       "</div>"
      ],
      "text/plain": [
       "    year  internet_users    population\n",
       "0   1990         3000000  5.327803e+09\n",
       "1   1991         4000000  5.418736e+09\n",
       "2   1992         7000000  5.505990e+09\n",
       "..   ...             ...           ...\n",
       "32  2022      5300000000  8.021407e+09\n",
       "33  2023      5400000000           NaN\n",
       "34  2024      5450000000           NaN\n",
       "\n",
       "[35 rows x 3 columns]"
      ]
     },
     "execution_count": 5,
     "metadata": {},
     "output_type": "execute_result"
    }
   ],
   "source": [
    "df = internet.merge(population, on='year', how='left')\n",
    "df #display"
   ]
  },
  {
   "cell_type": "markdown",
   "metadata": {},
   "source": [
    "Notice how we kept all 35 years of internet_user data, but the last two rows have population values of `NaN`.\n",
    "\n",
    "Here `NaN` stands for Not a Number, and indicates that no matching population data was found for the years 2023 and 2024. Those last two years were not in the right DataFrame.\n",
    "\n",
    "Let's drop these incomplete rows using the `dropna( )` method. This way the `NaN` values won't interfere with our analysis.\n",
    "\n",
    "Activity Goals:\n",
    "- Drop rows with NaNs.\n",
    "- Display the dataframe."
   ]
  },
  {
   "cell_type": "code",
   "execution_count": 6,
   "metadata": {},
   "outputs": [
    {
     "data": {
      "text/html": [
       "<div>\n",
       "<style scoped>\n",
       "    .dataframe tbody tr th:only-of-type {\n",
       "        vertical-align: middle;\n",
       "    }\n",
       "\n",
       "    .dataframe tbody tr th {\n",
       "        vertical-align: top;\n",
       "    }\n",
       "\n",
       "    .dataframe thead th {\n",
       "        text-align: right;\n",
       "    }\n",
       "</style>\n",
       "<table border=\"1\" class=\"dataframe\">\n",
       "  <thead>\n",
       "    <tr style=\"text-align: right;\">\n",
       "      <th></th>\n",
       "      <th>year</th>\n",
       "      <th>internet_users</th>\n",
       "      <th>population</th>\n",
       "    </tr>\n",
       "  </thead>\n",
       "  <tbody>\n",
       "    <tr>\n",
       "      <th>0</th>\n",
       "      <td>1990</td>\n",
       "      <td>3000000</td>\n",
       "      <td>5.327803e+09</td>\n",
       "    </tr>\n",
       "    <tr>\n",
       "      <th>1</th>\n",
       "      <td>1991</td>\n",
       "      <td>4000000</td>\n",
       "      <td>5.418736e+09</td>\n",
       "    </tr>\n",
       "    <tr>\n",
       "      <th>2</th>\n",
       "      <td>1992</td>\n",
       "      <td>7000000</td>\n",
       "      <td>5.505990e+09</td>\n",
       "    </tr>\n",
       "    <tr>\n",
       "      <th>...</th>\n",
       "      <td>...</td>\n",
       "      <td>...</td>\n",
       "      <td>...</td>\n",
       "    </tr>\n",
       "    <tr>\n",
       "      <th>30</th>\n",
       "      <td>2020</td>\n",
       "      <td>4700000000</td>\n",
       "      <td>7.887001e+09</td>\n",
       "    </tr>\n",
       "    <tr>\n",
       "      <th>31</th>\n",
       "      <td>2021</td>\n",
       "      <td>4901000000</td>\n",
       "      <td>7.954448e+09</td>\n",
       "    </tr>\n",
       "    <tr>\n",
       "      <th>32</th>\n",
       "      <td>2022</td>\n",
       "      <td>5300000000</td>\n",
       "      <td>8.021407e+09</td>\n",
       "    </tr>\n",
       "  </tbody>\n",
       "</table>\n",
       "<p>33 rows × 3 columns</p>\n",
       "</div>"
      ],
      "text/plain": [
       "    year  internet_users    population\n",
       "0   1990         3000000  5.327803e+09\n",
       "1   1991         4000000  5.418736e+09\n",
       "2   1992         7000000  5.505990e+09\n",
       "..   ...             ...           ...\n",
       "30  2020      4700000000  7.887001e+09\n",
       "31  2021      4901000000  7.954448e+09\n",
       "32  2022      5300000000  8.021407e+09\n",
       "\n",
       "[33 rows x 3 columns]"
      ]
     },
     "execution_count": 6,
     "metadata": {},
     "output_type": "execute_result"
    }
   ],
   "source": [
    "df = df.dropna()\n",
    "df #display it"
   ]
  },
  {
   "cell_type": "markdown",
   "metadata": {},
   "source": [
    "Looks like it worked. The updated df now has only 33 rows.\n",
    "\n",
    "### Percent of world using internet\n",
    "\n",
    "We're now ready to calculate the percent of the global population connected to the Internet for each year. We will use the `eval()` method.\n",
    "\n",
    "Activity Goals:\n",
    "- Calculate percent connected to internet.\n",
    "- Round it to 2 decimal places.\n",
    "- Display the dataframe."
   ]
  },
  {
   "cell_type": "code",
   "execution_count": 7,
   "metadata": {},
   "outputs": [
    {
     "data": {
      "text/html": [
       "<div>\n",
       "<style scoped>\n",
       "    .dataframe tbody tr th:only-of-type {\n",
       "        vertical-align: middle;\n",
       "    }\n",
       "\n",
       "    .dataframe tbody tr th {\n",
       "        vertical-align: top;\n",
       "    }\n",
       "\n",
       "    .dataframe thead th {\n",
       "        text-align: right;\n",
       "    }\n",
       "</style>\n",
       "<table border=\"1\" class=\"dataframe\">\n",
       "  <thead>\n",
       "    <tr style=\"text-align: right;\">\n",
       "      <th></th>\n",
       "      <th>year</th>\n",
       "      <th>internet_users</th>\n",
       "      <th>population</th>\n",
       "      <th>percent</th>\n",
       "    </tr>\n",
       "  </thead>\n",
       "  <tbody>\n",
       "    <tr>\n",
       "      <th>0</th>\n",
       "      <td>1990</td>\n",
       "      <td>3000000</td>\n",
       "      <td>5.327803e+09</td>\n",
       "      <td>0.06</td>\n",
       "    </tr>\n",
       "    <tr>\n",
       "      <th>1</th>\n",
       "      <td>1991</td>\n",
       "      <td>4000000</td>\n",
       "      <td>5.418736e+09</td>\n",
       "      <td>0.07</td>\n",
       "    </tr>\n",
       "    <tr>\n",
       "      <th>2</th>\n",
       "      <td>1992</td>\n",
       "      <td>7000000</td>\n",
       "      <td>5.505990e+09</td>\n",
       "      <td>0.13</td>\n",
       "    </tr>\n",
       "    <tr>\n",
       "      <th>...</th>\n",
       "      <td>...</td>\n",
       "      <td>...</td>\n",
       "      <td>...</td>\n",
       "      <td>...</td>\n",
       "    </tr>\n",
       "    <tr>\n",
       "      <th>30</th>\n",
       "      <td>2020</td>\n",
       "      <td>4700000000</td>\n",
       "      <td>7.887001e+09</td>\n",
       "      <td>59.59</td>\n",
       "    </tr>\n",
       "    <tr>\n",
       "      <th>31</th>\n",
       "      <td>2021</td>\n",
       "      <td>4901000000</td>\n",
       "      <td>7.954448e+09</td>\n",
       "      <td>61.61</td>\n",
       "    </tr>\n",
       "    <tr>\n",
       "      <th>32</th>\n",
       "      <td>2022</td>\n",
       "      <td>5300000000</td>\n",
       "      <td>8.021407e+09</td>\n",
       "      <td>66.07</td>\n",
       "    </tr>\n",
       "  </tbody>\n",
       "</table>\n",
       "<p>33 rows × 4 columns</p>\n",
       "</div>"
      ],
      "text/plain": [
       "    year  internet_users    population  percent\n",
       "0   1990         3000000  5.327803e+09     0.06\n",
       "1   1991         4000000  5.418736e+09     0.07\n",
       "2   1992         7000000  5.505990e+09     0.13\n",
       "..   ...             ...           ...      ...\n",
       "30  2020      4700000000  7.887001e+09    59.59\n",
       "31  2021      4901000000  7.954448e+09    61.61\n",
       "32  2022      5300000000  8.021407e+09    66.07\n",
       "\n",
       "[33 rows x 4 columns]"
      ]
     },
     "execution_count": 7,
     "metadata": {},
     "output_type": "execute_result"
    }
   ],
   "source": [
    "df['percent'] = df.eval('internet_users/population * 100')\n",
    "df['percent'] = df['percent'].round(2)\n",
    "df #display the result"
   ]
  },
  {
   "cell_type": "markdown",
   "metadata": {},
   "source": [
    "In 1990 less than 0.1% of the world used the Internet, but by 2022 over 65% were connected.\n",
    "\n",
    "When did the internet surpass half the population?\n",
    "\n",
    "### Half the world connected\n",
    "Let's plot the percentage of Internet users over time. We'll use the `axhline( )` method to draw a horizontal axis line at the 50% mark. This will give us a visual estimate of when internet use first passed 50%.\n",
    "\n",
    "Activity Goals:\n",
    "- Plot percent connected over time.\n",
    "- Add a gray horizontal line at 50%.\n",
    "- Label both axes.\n"
   ]
  },
  {
   "cell_type": "code",
   "execution_count": 8,
   "metadata": {},
   "outputs": [
    {
     "data": {
      "image/png": "[encoded data removed]",
      "text/plain": [
       "<Figure size 640x480 with 1 Axes>"
      ]
     },
     "metadata": {},
     "output_type": "display_data"
    }
   ],
   "source": [
    "import matplotlib.pyplot as plt\n",
    "plt.plot(df['year'], df['percent'])\n",
    "plt.axhline(50, color='gray', linestyle='--')\n",
    "plt.xlabel('Year')\n",
    "plt.ylabel('Percent Connected')\n",
    "plt.show()"
   ]
  },
  {
   "cell_type": "markdown",
   "metadata": {},
   "source": [
    "The graph shows that over 50% of the world became connected to the internet by 2020.\n",
    "\n",
    "### Finding the year we crossed 50%\n",
    "\n",
    "Plotting the data provides a visual estimate of the year the world crossed 50% internet connected. Now let's use the `query( )` and `head( )` methods to find the crossing point in our data.\n",
    "\n"
   ]
  },
  {
   "cell_type": "code",
   "execution_count": 9,
   "metadata": {},
   "outputs": [
    {
     "data": {
      "text/html": [
       "<div>\n",
       "<style scoped>\n",
       "    .dataframe tbody tr th:only-of-type {\n",
       "        vertical-align: middle;\n",
       "    }\n",
       "\n",
       "    .dataframe tbody tr th {\n",
       "        vertical-align: top;\n",
       "    }\n",
       "\n",
       "    .dataframe thead th {\n",
       "        text-align: right;\n",
       "    }\n",
       "</style>\n",
       "<table border=\"1\" class=\"dataframe\">\n",
       "  <thead>\n",
       "    <tr style=\"text-align: right;\">\n",
       "      <th></th>\n",
       "      <th>year</th>\n",
       "      <th>internet_users</th>\n",
       "      <th>population</th>\n",
       "      <th>percent</th>\n",
       "    </tr>\n",
       "  </thead>\n",
       "  <tbody>\n",
       "    <tr>\n",
       "      <th>29</th>\n",
       "      <td>2019</td>\n",
       "      <td>4194000000</td>\n",
       "      <td>7.811294e+09</td>\n",
       "      <td>53.69</td>\n",
       "    </tr>\n",
       "  </tbody>\n",
       "</table>\n",
       "</div>"
      ],
      "text/plain": [
       "    year  internet_users    population  percent\n",
       "29  2019      4194000000  7.811294e+09    53.69"
      ]
     },
     "execution_count": 9,
     "metadata": {},
     "output_type": "execute_result"
    }
   ],
   "source": [
    "over_half_connected = df.query('percent >= 50')\n",
    "over_half_connected.head(1)"
   ]
  },
  {
   "cell_type": "markdown",
   "metadata": {},
   "source": [
    "The first year to surpass 50% was 2019.\n",
    "\n",
    "While the Internet has grown exponentially, we still have work to do to ensure we are all connected as a global community."
   ]
  },
  {
   "cell_type": "markdown",
   "metadata": {},
   "source": [
    "## Project extensions\n",
    "\n",
    "The file `extension-internet-users-by-continent.csv` provides data on the number of internet users across each continent, while the file `extension-historical-population-by-continent.csv` details historical population counts for each continent.\n",
    "\n",
    "Here are some suggested extensions for your project:\n",
    "\n",
    "1. Determine the year when more than 50% of the population in a continent of your choice first gained internet access.\n",
    "\n",
    "2. Explore and analyze internet usage and population data for a specific region or country of interest, such as by sourcing information from sites like ourworldindata.org."
   ]
  },
  {
   "cell_type": "code",
   "execution_count": 10,
   "metadata": {},
   "outputs": [],
   "source": [
    "# FOR GOOGLE COLAB ONLY.\n",
    "# Uncomment and run the code below. A dialog will appear to upload files.\n",
    "# Upload 'extension-internet-users-by-continent.csv' and 'extension-historical-population-by-continent.csv'.\n",
    "\n",
    "# from google.colab import files\n",
    "# uploaded = files.upload()"
   ]
  },
  {
   "cell_type": "code",
   "execution_count": 11,
   "metadata": {},
   "outputs": [
    {
     "data": {
      "text/html": [
       "<div>\n",
       "<style scoped>\n",
       "    .dataframe tbody tr th:only-of-type {\n",
       "        vertical-align: middle;\n",
       "    }\n",
       "\n",
       "    .dataframe tbody tr th {\n",
       "        vertical-align: top;\n",
       "    }\n",
       "\n",
       "    .dataframe thead th {\n",
       "        text-align: right;\n",
       "    }\n",
       "</style>\n",
       "<table border=\"1\" class=\"dataframe\">\n",
       "  <thead>\n",
       "    <tr style=\"text-align: right;\">\n",
       "      <th></th>\n",
       "      <th>continent</th>\n",
       "      <th>year</th>\n",
       "      <th>population</th>\n",
       "    </tr>\n",
       "  </thead>\n",
       "  <tbody>\n",
       "    <tr>\n",
       "      <th>0</th>\n",
       "      <td>Africa</td>\n",
       "      <td>-10000</td>\n",
       "      <td>1118546</td>\n",
       "    </tr>\n",
       "    <tr>\n",
       "      <th>1</th>\n",
       "      <td>Africa</td>\n",
       "      <td>-9000</td>\n",
       "      <td>1214579</td>\n",
       "    </tr>\n",
       "    <tr>\n",
       "      <th>2</th>\n",
       "      <td>Africa</td>\n",
       "      <td>-8000</td>\n",
       "      <td>1355402</td>\n",
       "    </tr>\n",
       "    <tr>\n",
       "      <th>...</th>\n",
       "      <td>...</td>\n",
       "      <td>...</td>\n",
       "      <td>...</td>\n",
       "    </tr>\n",
       "    <tr>\n",
       "      <th>1587</th>\n",
       "      <td>South America</td>\n",
       "      <td>2021</td>\n",
       "      <td>428331420</td>\n",
       "    </tr>\n",
       "    <tr>\n",
       "      <th>1588</th>\n",
       "      <td>South America</td>\n",
       "      <td>2022</td>\n",
       "      <td>430492814</td>\n",
       "    </tr>\n",
       "    <tr>\n",
       "      <th>1589</th>\n",
       "      <td>South America</td>\n",
       "      <td>2023</td>\n",
       "      <td>433024230</td>\n",
       "    </tr>\n",
       "  </tbody>\n",
       "</table>\n",
       "<p>1590 rows × 3 columns</p>\n",
       "</div>"
      ],
      "text/plain": [
       "          continent   year  population\n",
       "0            Africa -10000     1118546\n",
       "1            Africa  -9000     1214579\n",
       "2            Africa  -8000     1355402\n",
       "...             ...    ...         ...\n",
       "1587  South America   2021   428331420\n",
       "1588  South America   2022   430492814\n",
       "1589  South America   2023   433024230\n",
       "\n",
       "[1590 rows x 3 columns]"
      ]
     },
     "execution_count": 11,
     "metadata": {},
     "output_type": "execute_result"
    }
   ],
   "source": [
    "population_by_continent = pd.read_csv('extension-historical-population-by-continent.csv')\n",
    "population_by_continent"
   ]
  },
  {
   "cell_type": "code",
   "execution_count": 12,
   "metadata": {},
   "outputs": [
    {
     "data": {
      "text/html": [
       "<div>\n",
       "<style scoped>\n",
       "    .dataframe tbody tr th:only-of-type {\n",
       "        vertical-align: middle;\n",
       "    }\n",
       "\n",
       "    .dataframe tbody tr th {\n",
       "        vertical-align: top;\n",
       "    }\n",
       "\n",
       "    .dataframe thead th {\n",
       "        text-align: right;\n",
       "    }\n",
       "</style>\n",
       "<table border=\"1\" class=\"dataframe\">\n",
       "  <thead>\n",
       "    <tr style=\"text-align: right;\">\n",
       "      <th></th>\n",
       "      <th>continent</th>\n",
       "      <th>year</th>\n",
       "      <th>internet_users</th>\n",
       "    </tr>\n",
       "  </thead>\n",
       "  <tbody>\n",
       "    <tr>\n",
       "      <th>0</th>\n",
       "      <td>Africa</td>\n",
       "      <td>1990</td>\n",
       "      <td>0.000000e+00</td>\n",
       "    </tr>\n",
       "    <tr>\n",
       "      <th>1</th>\n",
       "      <td>Africa</td>\n",
       "      <td>1991</td>\n",
       "      <td>5.537650e+03</td>\n",
       "    </tr>\n",
       "    <tr>\n",
       "      <th>2</th>\n",
       "      <td>Africa</td>\n",
       "      <td>1992</td>\n",
       "      <td>1.649741e+04</td>\n",
       "    </tr>\n",
       "    <tr>\n",
       "      <th>...</th>\n",
       "      <td>...</td>\n",
       "      <td>...</td>\n",
       "      <td>...</td>\n",
       "    </tr>\n",
       "    <tr>\n",
       "      <th>189</th>\n",
       "      <td>South America</td>\n",
       "      <td>2019</td>\n",
       "      <td>2.815900e+08</td>\n",
       "    </tr>\n",
       "    <tr>\n",
       "      <th>190</th>\n",
       "      <td>South America</td>\n",
       "      <td>2020</td>\n",
       "      <td>3.102178e+08</td>\n",
       "    </tr>\n",
       "    <tr>\n",
       "      <th>191</th>\n",
       "      <td>South America</td>\n",
       "      <td>2021</td>\n",
       "      <td>3.177395e+08</td>\n",
       "    </tr>\n",
       "  </tbody>\n",
       "</table>\n",
       "<p>192 rows × 3 columns</p>\n",
       "</div>"
      ],
      "text/plain": [
       "         continent  year  internet_users\n",
       "0           Africa  1990    0.000000e+00\n",
       "1           Africa  1991    5.537650e+03\n",
       "2           Africa  1992    1.649741e+04\n",
       "..             ...   ...             ...\n",
       "189  South America  2019    2.815900e+08\n",
       "190  South America  2020    3.102178e+08\n",
       "191  South America  2021    3.177395e+08\n",
       "\n",
       "[192 rows x 3 columns]"
      ]
     },
     "execution_count": 12,
     "metadata": {},
     "output_type": "execute_result"
    }
   ],
   "source": [
    "internet_users_by_continent = pd.read_csv('extension-internet-users-by-continent.csv')\n",
    "internet_users_by_continent"
   ]
  },
  {
   "cell_type": "code",
   "execution_count": 1,
   "metadata": {},
   "outputs": [
    {
     "name": "stdout",
     "output_type": "stream",
     "text": [
      "Index(['continent', 'year', 'internet_users'], dtype='object')\n",
      "Index(['continent', 'year', 'population'], dtype='object')\n"
     ]
    }
   ],
   "source": [
    "# YOUR CODE HERE (add new cells as needed)\n",
    "import pandas as pd\n",
    "\n",
    "# Load data\n",
    "internet = pd.read_csv(\"extension-internet-users-by-continent.csv\")\n",
    "population = pd.read_csv(\"extension-historical-population-by-continent.csv\")\n",
    "\n",
    "# Preview and align the data\n",
    "print(internet.columns)\n",
    "print(population.columns)"
   ]
  },
  {
   "cell_type": "code",
   "execution_count": 4,
   "metadata": {},
   "outputs": [
    {
     "name": "stdout",
     "output_type": "stream",
     "text": [
      "First year over 50% in Asia: 2020\n"
     ]
    }
   ],
   "source": [
    "# Standardize column names if needed\n",
    "# internet = internet.rename(columns={\"Continent\": \"Continent\", \"Internet users\": \"Internet_Users\"})\n",
    "# population = population.rename(columns={\"Continent\": \"Continent\", \"Population\": \"Total_Population\"})\n",
    "\n",
    "# Merge datasets\n",
    "merged = pd.merge(internet, population, on=[\"continent\", \"year\"])\n",
    "\n",
    "# Calculate internet penetration rate\n",
    "merged[\"Internet_Penetration\"] = merged[\"internet_users\"] / merged[\"population\"]\n",
    "\n",
    "# Choose a continent, e.g., Asia\n",
    "asia = merged[merged[\"continent\"] == \"Asia\"]\n",
    "\n",
    "# Find the first year with over 50% penetration\n",
    "first_year_over_50 = asia[asia[\"Internet_Penetration\"] >= 0.5][\"year\"].min()\n",
    "print(\"First year over 50% in Asia:\", first_year_over_50)\n"
   ]
  },
  {
   "cell_type": "code",
   "execution_count": 8,
   "metadata": {},
   "outputs": [
    {
     "data": {
      "image/png": "[encoded data removed]",
      "text/plain": [
       "<Figure size 640x480 with 1 Axes>"
      ]
     },
     "metadata": {},
     "output_type": "display_data"
    }
   ],
   "source": [
    "# Explore and analyze internet usage and population data for a specific region or country \n",
    "# of interest, such as by sourcing information from sites like ourworldindata.org.\n",
    "# Filter for Indonesia\n",
    "oceania = merged[merged[\"continent\"] == \"Oceania\"]\n",
    "\n",
    "# Plot over time\n",
    "import matplotlib.pyplot as plt\n",
    "\n",
    "plt.plot(oceania[\"year\"], oceania[\"Internet_Penetration\"] * 100)\n",
    "plt.title(\"Internet Usage in Oceania Over Time\")\n",
    "plt.xlabel(\"Year\")\n",
    "plt.ylabel(\"Internet Penetration (%)\")\n",
    "plt.grid(True)\n",
    "plt.show()\n"
   ]
  }
 ],
 "metadata": {
  "kernelspec": {
   "display_name": "Python 3",
   "language": "python",
   "name": "python3"
  },
  "language_info": {
   "codemirror_mode": {
    "name": "ipython",
    "version": 3
   },
   "file_extension": ".py",
   "mimetype": "text/x-python",
   "name": "python",
   "nbconvert_exporter": "python",
   "pygments_lexer": "ipython3",
   "version": "3.13.1"
  }
 },
 "nbformat": 4,
 "nbformat_minor": 2
}
